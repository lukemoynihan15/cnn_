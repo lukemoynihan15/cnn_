{
 "cells": [
  {
   "cell_type": "markdown",
   "metadata": {
    "id": "oOmnW2h8qq78"
   },
   "source": [
    "# DS 300: Data Mining - Convolutional Nerual Networks"
   ]
  },
  {
   "cell_type": "markdown",
   "metadata": {
    "id": "n0OOVK-bqq79"
   },
   "source": [
    "## Introduction:\n",
    "\n",
    "#### In this lab, we will practice building CNN models with the Cifar10 dataset [link](https://www.cs.toronto.edu/~kriz/cifar.html).\n",
    "\n",
    "The CIFAR-10 dataset consists of 60000 32x32 colour images in 10 classes, with 6000 images per class. There are 50000 training images and 10000 test images. \n",
    "\n",
    "Available labels: airplane, automobile, bird, cat, deer, dog, frog, horse, ship, and truck. \n",
    "\n",
    "Here are 10 random images from each labeled category:\n",
    "![Image](https://miro.medium.com/max/824/1*SZnidBt7CQ4Xqcag6rd8Ew.png)\t\t\t\t\t\t\n"
   ]
  },
  {
   "cell_type": "markdown",
   "metadata": {
    "id": "RDeCzd0Tqq7-"
   },
   "source": [
    "## Question 1: Prerequisite"
   ]
  },
  {
   "cell_type": "markdown",
   "metadata": {
    "id": "fmuz3Cusqq7-"
   },
   "source": [
    "#### Import all the basic libraries"
   ]
  },
  {
   "cell_type": "code",
   "execution_count": 2,
   "metadata": {
    "id": "o6Jd5OMrqq7_"
   },
   "outputs": [],
   "source": [
    "# Importing the libraries\n",
    "\n",
    "import pandas as pd\n",
    "import numpy as np\n",
    "import matplotlib.pyplot as plt\n",
    "import seaborn as sns\n",
    "\n",
    "%matplotlib inline\n"
   ]
  },
  {
   "cell_type": "markdown",
   "metadata": {
    "id": "EvQ_SxKoqq8D"
   },
   "source": [
    "#### Define some constants we are going to use"
   ]
  },
  {
   "cell_type": "code",
   "execution_count": 3,
   "metadata": {
    "id": "hP-DQ-eWqq8E"
   },
   "outputs": [],
   "source": [
    "# Number of classes in the label is 10\n",
    "num_classes = 10\n",
    "\n",
    "# Batch size for CNN training is 50\n",
    "batch_size = 50\n",
    "\n",
    "# Number of epoches for CNN training is 20\n",
    "epochs = 20"
   ]
  },
  {
   "cell_type": "code",
   "execution_count": 1,
   "metadata": {},
   "outputs": [
    {
     "name": "stdout",
     "output_type": "stream",
     "text": [
      "Collecting package metadata (current_repodata.json): done\n",
      "Solving environment: done\n",
      "\n",
      "# All requested packages already installed.\n",
      "\n",
      "\n",
      "Note: you may need to restart the kernel to use updated packages.\n"
     ]
    }
   ],
   "source": [
    "#conda install -c anaconda keras"
   ]
  },
  {
   "cell_type": "markdown",
   "metadata": {
    "id": "dnq-6tatqq8H"
   },
   "source": [
    "## Question 2:"
   ]
  },
  {
   "cell_type": "markdown",
   "metadata": {
    "id": "f7j53HU9qq8H"
   },
   "source": [
    "#### Load `cifar10` dataset from `keras.datasets` by using the `load_data()` method. Use names as `x_train`, `y_train`, `x_test`, and `y_test`. This step takes 270 seconds on my computer at home, but lucky you: the campus network is much faster. "
   ]
  },
  {
   "cell_type": "code",
   "execution_count": null,
   "metadata": {
    "id": "20UTXyJdqq8I",
    "scrolled": true
   },
   "outputs": [],
   "source": [
    "# load dataset\n",
    "from keras.datasets import cifar10\n",
    "(X_train, y_train), (X_test, y_test) = cifar10.load_data()\n",
    "\n",
    "\n"
   ]
  },
  {
   "cell_type": "markdown",
   "metadata": {
    "id": "_Wah3EE6qq8M"
   },
   "source": [
    "#### Print the following information."
   ]
  },
  {
   "cell_type": "code",
   "execution_count": 1,
   "metadata": {
    "colab": {
     "base_uri": "https://localhost:8080/"
    },
    "id": "sdxraA93rnZI",
    "outputId": "8700e143-69eb-4ca7-8f36-34abb60d75b0"
   },
   "outputs": [
    {
     "ename": "NameError",
     "evalue": "name 'X_train' is not defined",
     "output_type": "error",
     "traceback": [
      "\u001b[0;31m---------------------------------------------------------------------------\u001b[0m",
      "\u001b[0;31mNameError\u001b[0m                                 Traceback (most recent call last)",
      "\u001b[0;32m<ipython-input-1-e3efc9eaac9c>\u001b[0m in \u001b[0;36m<module>\u001b[0;34m\u001b[0m\n\u001b[0;32m----> 1\u001b[0;31m \u001b[0mprint\u001b[0m\u001b[0;34m(\u001b[0m\u001b[0;34m'x_train shape: '\u001b[0m\u001b[0;34m,\u001b[0m \u001b[0mX_train\u001b[0m\u001b[0;34m.\u001b[0m\u001b[0mshape\u001b[0m\u001b[0;34m)\u001b[0m\u001b[0;34m\u001b[0m\u001b[0;34m\u001b[0m\u001b[0m\n\u001b[0m\u001b[1;32m      2\u001b[0m \u001b[0;34m\u001b[0m\u001b[0m\n\u001b[1;32m      3\u001b[0m \u001b[0mprint\u001b[0m\u001b[0;34m(\u001b[0m\u001b[0;34m'y_train shape: '\u001b[0m\u001b[0;34m,\u001b[0m \u001b[0my_train\u001b[0m\u001b[0;34m.\u001b[0m\u001b[0mshape\u001b[0m\u001b[0;34m)\u001b[0m\u001b[0;34m\u001b[0m\u001b[0;34m\u001b[0m\u001b[0m\n\u001b[1;32m      4\u001b[0m \u001b[0mprint\u001b[0m\u001b[0;34m(\u001b[0m\u001b[0;34m'Number of train samples: '\u001b[0m\u001b[0;34m,\u001b[0m\u001b[0mX_train\u001b[0m\u001b[0;34m.\u001b[0m\u001b[0mshape\u001b[0m\u001b[0;34m[\u001b[0m\u001b[0;36m0\u001b[0m\u001b[0;34m]\u001b[0m\u001b[0;34m)\u001b[0m\u001b[0;34m\u001b[0m\u001b[0;34m\u001b[0m\u001b[0m\n\u001b[1;32m      5\u001b[0m \u001b[0mprint\u001b[0m\u001b[0;34m(\u001b[0m\u001b[0;34m'Number of test samples: '\u001b[0m\u001b[0;34m,\u001b[0m\u001b[0my_test\u001b[0m\u001b[0;34m.\u001b[0m\u001b[0mshape\u001b[0m\u001b[0;34m[\u001b[0m\u001b[0;36m0\u001b[0m\u001b[0;34m]\u001b[0m\u001b[0;34m)\u001b[0m\u001b[0;34m\u001b[0m\u001b[0;34m\u001b[0m\u001b[0m\n",
      "\u001b[0;31mNameError\u001b[0m: name 'X_train' is not defined"
     ]
    }
   ],
   "source": [
    "print('x_train shape: ', X_train.shape)\n",
    "\n",
    "print('y_train shape: ', y_train.shape)\n",
    "print('Number of train samples: ',X_train.shape[0])\n",
    "print('Number of test samples: ',y_test.shape[0])\n",
    "\n"
   ]
  },
  {
   "cell_type": "markdown",
   "metadata": {
    "id": "4-yGIDQgqq8Q"
   },
   "source": [
    "## Question 3: \n",
    "#### We need to divide the image data by 255 in order to normalize it into 0-1 range, after converting it into floating point values. "
   ]
  },
  {
   "cell_type": "code",
   "execution_count": 40,
   "metadata": {
    "id": "AkFBNagQqq8Q"
   },
   "outputs": [],
   "source": [
    "# prepare x dataset\n",
    "X_train = X_train.astype('float32')\n",
    "X_test = X_test.astype('float32')\n",
    "\n",
    "# Normalize into 0-1\n",
    "X_train = X_train/255\n",
    "X_test = X_test/255\n"
   ]
  },
  {
   "cell_type": "markdown",
   "metadata": {
    "id": "XJzixzchqq8T"
   },
   "source": [
    "#### Find how many images we have for each label in `y_train`. Hint: you can create a DataFrame."
   ]
  },
  {
   "cell_type": "code",
   "execution_count": 41,
   "metadata": {
    "colab": {
     "base_uri": "https://localhost:8080/",
     "height": 195
    },
    "id": "RE3nzr4vsvSj",
    "outputId": "80c373a6-29a2-42fe-b7ab-6fda4f6a6f48"
   },
   "outputs": [
    {
     "data": {
      "text/html": [
       "<div>\n",
       "<style scoped>\n",
       "    .dataframe tbody tr th:only-of-type {\n",
       "        vertical-align: middle;\n",
       "    }\n",
       "\n",
       "    .dataframe tbody tr th {\n",
       "        vertical-align: top;\n",
       "    }\n",
       "\n",
       "    .dataframe thead th {\n",
       "        text-align: right;\n",
       "    }\n",
       "</style>\n",
       "<table border=\"1\" class=\"dataframe\">\n",
       "  <thead>\n",
       "    <tr style=\"text-align: right;\">\n",
       "      <th></th>\n",
       "      <th>0</th>\n",
       "    </tr>\n",
       "  </thead>\n",
       "  <tbody>\n",
       "    <tr>\n",
       "      <th>0</th>\n",
       "      <td>6</td>\n",
       "    </tr>\n",
       "    <tr>\n",
       "      <th>1</th>\n",
       "      <td>9</td>\n",
       "    </tr>\n",
       "    <tr>\n",
       "      <th>2</th>\n",
       "      <td>9</td>\n",
       "    </tr>\n",
       "    <tr>\n",
       "      <th>3</th>\n",
       "      <td>4</td>\n",
       "    </tr>\n",
       "    <tr>\n",
       "      <th>4</th>\n",
       "      <td>1</td>\n",
       "    </tr>\n",
       "  </tbody>\n",
       "</table>\n",
       "</div>"
      ],
      "text/plain": [
       "   0\n",
       "0  6\n",
       "1  9\n",
       "2  9\n",
       "3  4\n",
       "4  1"
      ]
     },
     "execution_count": 41,
     "metadata": {
      "tags": []
     },
     "output_type": "execute_result"
    }
   ],
   "source": [
    "df = pd.DataFrame(y_train)\n",
    "df.head()"
   ]
  },
  {
   "cell_type": "code",
   "execution_count": 42,
   "metadata": {
    "colab": {
     "base_uri": "https://localhost:8080/"
    },
    "id": "X64YC0_Dt5vh",
    "outputId": "2202db7c-45cd-43e4-cf7c-a049bcfdf084"
   },
   "outputs": [
    {
     "data": {
      "text/plain": [
       "9    5000\n",
       "8    5000\n",
       "7    5000\n",
       "6    5000\n",
       "5    5000\n",
       "4    5000\n",
       "3    5000\n",
       "2    5000\n",
       "1    5000\n",
       "0    5000\n",
       "dtype: int64"
      ]
     },
     "execution_count": 42,
     "metadata": {
      "tags": []
     },
     "output_type": "execute_result"
    }
   ],
   "source": [
    "df.value_counts()"
   ]
  },
  {
   "cell_type": "code",
   "execution_count": 42,
   "metadata": {
    "id": "4DQ1Qui6qq8U"
   },
   "outputs": [],
   "source": [
    "\n",
    "\n"
   ]
  },
  {
   "cell_type": "markdown",
   "metadata": {
    "id": "MVJkd3IRqq8X"
   },
   "source": [
    "## Question 4:"
   ]
  },
  {
   "cell_type": "markdown",
   "metadata": {
    "id": "KBpy4bMYqq8Y"
   },
   "source": [
    "#### Create a dictionary to assign a name to each label. The labels are ordered as follows: airplane, automobile, bird, cat, deer, dog, frog, horse, ship, and truck. For example, 'airplane' has the key of 0."
   ]
  },
  {
   "cell_type": "code",
   "execution_count": 43,
   "metadata": {
    "colab": {
     "base_uri": "https://localhost:8080/"
    },
    "id": "YCg46wmyqq8Y",
    "outputId": "f6722ffd-4b0a-4aa2-b8f2-dc41c66117e6"
   },
   "outputs": [
    {
     "name": "stdout",
     "output_type": "stream",
     "text": [
      "{0: 'airplane', 1: 'automobile', 2: 'bird', 3: 'cat', 4: 'deer', 5: 'dog', 6: 'frog', 7: 'horse', 8: 'ship', 9: 'truck'}\n"
     ]
    }
   ],
   "source": [
    "# give a name to each label\n",
    "label = {0:'airplane', 1:'automobile', 2:'bird',3:'cat', 4:'deer', 5:'dog',\n",
    "         6:'frog', 7:'horse', 8:'ship', 9: 'truck'}\n",
    "\n",
    "\n",
    "print(label)\n",
    "\n",
    "\n"
   ]
  },
  {
   "cell_type": "markdown",
   "metadata": {
    "id": "SecoCldvqq8b"
   },
   "source": [
    "#### Convert training and testing target labels to binary class matrices"
   ]
  },
  {
   "cell_type": "code",
   "execution_count": 44,
   "metadata": {
    "id": "R-wqFAQWqq8c"
   },
   "outputs": [],
   "source": [
    "# Convert class vectors to binary class matrices.\n",
    "from keras.utils import to_categorical\n",
    "\n",
    "y_train = to_categorical(y_train, 10)\n",
    "\n",
    "y_test = to_categorical(y_test, 10) "
   ]
  },
  {
   "cell_type": "markdown",
   "metadata": {
    "id": "oUqeeYr3qq8f"
   },
   "source": [
    "#### Print the following information"
   ]
  },
  {
   "cell_type": "code",
   "execution_count": 45,
   "metadata": {
    "colab": {
     "base_uri": "https://localhost:8080/"
    },
    "id": "9KWcG4GZwNCV",
    "outputId": "1990624c-945a-4db6-c916-a52cd7d546d2"
   },
   "outputs": [
    {
     "data": {
      "text/plain": [
       "array([[0., 0., 0., 0., 0., 0., 1., 0., 0., 0.],\n",
       "       [0., 0., 0., 0., 0., 0., 0., 0., 0., 1.],\n",
       "       [0., 0., 0., 0., 0., 0., 0., 0., 0., 1.],\n",
       "       [0., 0., 0., 0., 1., 0., 0., 0., 0., 0.],\n",
       "       [0., 1., 0., 0., 0., 0., 0., 0., 0., 0.],\n",
       "       [0., 1., 0., 0., 0., 0., 0., 0., 0., 0.],\n",
       "       [0., 0., 1., 0., 0., 0., 0., 0., 0., 0.],\n",
       "       [0., 0., 0., 0., 0., 0., 0., 1., 0., 0.],\n",
       "       [0., 0., 0., 0., 0., 0., 0., 0., 1., 0.],\n",
       "       [0., 0., 0., 1., 0., 0., 0., 0., 0., 0.]], dtype=float32)"
      ]
     },
     "execution_count": 45,
     "metadata": {
      "tags": []
     },
     "output_type": "execute_result"
    }
   ],
   "source": [
    "y_train[:10]"
   ]
  },
  {
   "cell_type": "code",
   "execution_count": 45,
   "metadata": {
    "id": "w_kJ7R2Yqq8f"
   },
   "outputs": [],
   "source": [
    "\n",
    "\n",
    "\n"
   ]
  },
  {
   "cell_type": "markdown",
   "metadata": {
    "id": "eculztWvqq8i"
   },
   "source": [
    "## Question 5:"
   ]
  },
  {
   "cell_type": "markdown",
   "metadata": {
    "id": "JWMP8Rwkqq8j"
   },
   "source": [
    "#### Visualize the first 10 images with descriptive titles as shown.\n",
    "\n",
    "---\n",
    "\n"
   ]
  },
  {
   "cell_type": "code",
   "execution_count": 60,
   "metadata": {
    "colab": {
     "base_uri": "https://localhost:8080/",
     "height": 1000
    },
    "id": "lyz-Lg4Hqq8j",
    "outputId": "313d6dab-fd57-4b98-edbd-12a3844686d2",
    "scrolled": false
   },
   "outputs": [
    {
     "data": {
      "image/png": "[encoded data removed]",
      "text/plain": [
       "<Figure size 144x144 with 1 Axes>"
      ]
     },
     "metadata": {
      "needs_background": "light",
      "tags": []
     },
     "output_type": "display_data"
    },
    {
     "data": {
      "image/png": "[encoded data removed]",
      "text/plain": [
       "<Figure size 144x144 with 1 Axes>"
      ]
     },
     "metadata": {
      "needs_background": "light",
      "tags": []
     },
     "output_type": "display_data"
    },
    {
     "data": {
      "image/png": "[encoded data removed]",
      "text/plain": [
       "<Figure size 144x144 with 1 Axes>"
      ]
     },
     "metadata": {
      "needs_background": "light",
      "tags": []
     },
     "output_type": "display_data"
    },
    {
     "data": {
      "image/png": "[encoded data removed]",
      "text/plain": [
       "<Figure size 144x144 with 1 Axes>"
      ]
     },
     "metadata": {
      "needs_background": "light",
      "tags": []
     },
     "output_type": "display_data"
    },
    {
     "data": {
      "image/png": "[encoded data removed]",
      "text/plain": [
       "<Figure size 144x144 with 1 Axes>"
      ]
     },
     "metadata": {
      "needs_background": "light",
      "tags": []
     },
     "output_type": "display_data"
    },
    {
     "data": {
      "image/png": "[encoded data removed]",
      "text/plain": [
       "<Figure size 144x144 with 1 Axes>"
      ]
     },
     "metadata": {
      "needs_background": "light",
      "tags": []
     },
     "output_type": "display_data"
    },
    {
     "data": {
      "image/png": "[encoded data removed]",
      "text/plain": [
       "<Figure size 144x144 with 1 Axes>"
      ]
     },
     "metadata": {
      "needs_background": "light",
      "tags": []
     },
     "output_type": "display_data"
    },
    {
     "data": {
      "image/png": "[encoded data removed]",
      "text/plain": [
       "<Figure size 144x144 with 1 Axes>"
      ]
     },
     "metadata": {
      "needs_background": "light",
      "tags": []
     },
     "output_type": "display_data"
    },
    {
     "data": {
      "image/png": "[encoded data removed]",
      "text/plain": [
       "<Figure size 144x144 with 1 Axes>"
      ]
     },
     "metadata": {
      "needs_background": "light",
      "tags": []
     },
     "output_type": "display_data"
    },
    {
     "data": {
      "image/png": "[encoded data removed]",
      "text/plain": [
       "<Figure size 144x144 with 1 Axes>"
      ]
     },
     "metadata": {
      "needs_background": "light",
      "tags": []
     },
     "output_type": "display_data"
    }
   ],
   "source": [
    "for i in range(10):\n",
    "    plt.figure(figsize=(2, 2))\n",
    "    label = y_train[i].argmax(axis=0)\n",
    "    \n",
    "    plt.imshow(X_train[i],cmap=plt.get_cmap('gray_r'))\n",
    "    \n",
    "    \n",
    "    plt.show()"
   ]
  },
  {
   "cell_type": "markdown",
   "metadata": {
    "id": "6I8fP-uzqq8n"
   },
   "source": [
    "## Question 6:\n",
    "\n",
    "#### Now create a sequential CNN model that generates the following model information.\n",
    "\n",
    "+ We'll start with a 2D convolution of the image - it's set up to take 32 \"feature detectors\" or \"filters\", of each image, each feature detector being 3x3 in size. Use rectifier function as the activation function.\n",
    "\n",
    "+ Next we apply a MaxPooling2D layer that takes the maximum of each 2x2 result to distill the results down into something more manageable.\n",
    "\n",
    "+ We then run a second convolution on top of that with 32 3x3 windows. Use again the rectifier function.\n",
    "\n",
    "+ Again, we apply a MaxPooling2D layer that takes the maximum of each 2x2 result.\n",
    "\n",
    "+ A dropout filter is then applied to prevent overfitting. Use drop out rate as 25%.\n",
    "\n",
    "+ Next we flatten the 2D layer we have at this stage into a 1D layer. So at this point we can just pretend we have a traditional multi-layer perceptron and feed that into a fully connected layer of 512 units.\n",
    "\n",
    "+ We then apply dropout again to further prevent overfitting. This time use drop out rate 50%. \n",
    "\n",
    "+ And finally, we feed that into our final 10 units where softmax is applied to choose our category of 0-9."
   ]
  },
  {
   "cell_type": "code",
   "execution_count": 47,
   "metadata": {
    "id": "PtxvRX1lqq8n"
   },
   "outputs": [],
   "source": [
    "from keras.models import Sequential\n",
    "from keras.layers import Dense, Dropout, Flatten\n",
    "from keras.layers import Conv2D, MaxPooling2D"
   ]
  },
  {
   "cell_type": "markdown",
   "metadata": {
    "id": "142FkBgUqq8q"
   },
   "source": [
    "#### Create the layers for the model."
   ]
  },
  {
   "cell_type": "code",
   "execution_count": 48,
   "metadata": {
    "colab": {
     "base_uri": "https://localhost:8080/"
    },
    "id": "Exws2MChqq8r",
    "outputId": "9c6aef71-2ed3-4d19-ef47-a8a3c0b70b50"
   },
   "outputs": [
    {
     "name": "stdout",
     "output_type": "stream",
     "text": [
      "Model: \"sequential_2\"\n",
      "_________________________________________________________________\n",
      "Layer (type)                 Output Shape              Param #   \n",
      "=================================================================\n",
      "conv2d_4 (Conv2D)            (None, 30, 30, 32)        896       \n",
      "_________________________________________________________________\n",
      "conv2d_5 (Conv2D)            (None, 28, 28, 32)        9248      \n",
      "_________________________________________________________________\n",
      "max_pooling2d_2 (MaxPooling2 (None, 14, 14, 32)        0         \n",
      "_________________________________________________________________\n",
      "dropout_4 (Dropout)          (None, 14, 14, 32)        0         \n",
      "_________________________________________________________________\n",
      "flatten_2 (Flatten)          (None, 6272)              0         \n",
      "_________________________________________________________________\n",
      "dense_4 (Dense)              (None, 512)               3211776   \n",
      "_________________________________________________________________\n",
      "dropout_5 (Dropout)          (None, 512)               0         \n",
      "_________________________________________________________________\n",
      "dense_5 (Dense)              (None, 10)                5130      \n",
      "=================================================================\n",
      "Total params: 3,227,050\n",
      "Trainable params: 3,227,050\n",
      "Non-trainable params: 0\n",
      "_________________________________________________________________\n"
     ]
    }
   ],
   "source": [
    "model = Sequential()\n",
    "\n",
    "model.add(Conv2D(filters=32, kernel_size=(3,3), activation='relu',input_shape=(32, 32, 3)))\n",
    "model.add(Conv2D(filters=32, kernel_size=(3,3), activation='relu'))\n",
    "model.add(MaxPooling2D(pool_size=(2,2)))\n",
    "model.add(Dropout(0.25))\n",
    "model.add(Flatten())\n",
    "model.add(Dense(512, activation='relu'))\n",
    "model.add(Dropout(0.5))\n",
    "model.add(Dense(10,activation='softmax'))\n",
    "\n",
    "\n",
    "\n",
    "model.summary()"
   ]
  },
  {
   "cell_type": "markdown",
   "metadata": {
    "id": "0Vq4IdnPqq8t"
   },
   "source": [
    "## Question 7:\n",
    "\n",
    "#### Compile the model with the given optimizer."
   ]
  },
  {
   "cell_type": "code",
   "execution_count": 49,
   "metadata": {
    "id": "egm_BOPIqq8u"
   },
   "outputs": [],
   "source": [
    "# initiate Adam optimizer\n",
    "from keras.optimizers import Adam\n",
    "opt = Adam(lr=0.0001, decay=1e-6)\n",
    "\n",
    "# Let's train the model using Adam\n",
    "model.compile(loss='categorical_crossentropy',\n",
    "              optimizer='adam', metrics='accuracy')\n",
    "\n",
    "\n"
   ]
  },
  {
   "cell_type": "markdown",
   "metadata": {
    "id": "LTcXqxuUqq8w"
   },
   "source": [
    "#### Train the model with training and validation data. "
   ]
  },
  {
   "cell_type": "code",
   "execution_count": 50,
   "metadata": {
    "colab": {
     "base_uri": "https://localhost:8080/"
    },
    "id": "9K7l6UKlqq8x",
    "outputId": "3f27d758-1e75-4ef1-df1d-eb026ba97444"
   },
   "outputs": [
    {
     "name": "stdout",
     "output_type": "stream",
     "text": [
      "Epoch 1/20\n",
      "98/98 [==============================] - 2s 24ms/step - loss: 1.6610 - accuracy: 0.3984 - val_loss: 1.3490 - val_accuracy: 0.5278\n",
      "Epoch 2/20\n",
      "98/98 [==============================] - 2s 22ms/step - loss: 1.2849 - accuracy: 0.5408 - val_loss: 1.1623 - val_accuracy: 0.5892\n",
      "Epoch 3/20\n",
      "98/98 [==============================] - 2s 22ms/step - loss: 1.1465 - accuracy: 0.5928 - val_loss: 1.0760 - val_accuracy: 0.6221\n",
      "Epoch 4/20\n",
      "98/98 [==============================] - 2s 22ms/step - loss: 1.0534 - accuracy: 0.6298 - val_loss: 0.9955 - val_accuracy: 0.6527\n",
      "Epoch 5/20\n",
      "98/98 [==============================] - 2s 22ms/step - loss: 0.9812 - accuracy: 0.6544 - val_loss: 0.9594 - val_accuracy: 0.6662\n",
      "Epoch 6/20\n",
      "98/98 [==============================] - 2s 21ms/step - loss: 0.9225 - accuracy: 0.6769 - val_loss: 0.9378 - val_accuracy: 0.6716\n",
      "Epoch 7/20\n",
      "98/98 [==============================] - 2s 22ms/step - loss: 0.8619 - accuracy: 0.6985 - val_loss: 0.9016 - val_accuracy: 0.6859\n",
      "Epoch 8/20\n",
      "98/98 [==============================] - 2s 22ms/step - loss: 0.8218 - accuracy: 0.7110 - val_loss: 0.8757 - val_accuracy: 0.6946\n",
      "Epoch 9/20\n",
      "98/98 [==============================] - 2s 22ms/step - loss: 0.7736 - accuracy: 0.7277 - val_loss: 0.8676 - val_accuracy: 0.6971\n",
      "Epoch 10/20\n",
      "98/98 [==============================] - 2s 22ms/step - loss: 0.7383 - accuracy: 0.7398 - val_loss: 0.8632 - val_accuracy: 0.7028\n",
      "Epoch 11/20\n",
      "98/98 [==============================] - 2s 22ms/step - loss: 0.7013 - accuracy: 0.7539 - val_loss: 0.8514 - val_accuracy: 0.7088\n",
      "Epoch 12/20\n",
      "98/98 [==============================] - 2s 22ms/step - loss: 0.6646 - accuracy: 0.7669 - val_loss: 0.8403 - val_accuracy: 0.7109\n",
      "Epoch 13/20\n",
      "98/98 [==============================] - 2s 22ms/step - loss: 0.6304 - accuracy: 0.7806 - val_loss: 0.8247 - val_accuracy: 0.7167\n",
      "Epoch 14/20\n",
      "98/98 [==============================] - 2s 22ms/step - loss: 0.5887 - accuracy: 0.7933 - val_loss: 0.8571 - val_accuracy: 0.7098\n",
      "Epoch 15/20\n",
      "98/98 [==============================] - 2s 22ms/step - loss: 0.5693 - accuracy: 0.8010 - val_loss: 0.8369 - val_accuracy: 0.7158\n",
      "Epoch 16/20\n",
      "98/98 [==============================] - 2s 22ms/step - loss: 0.5396 - accuracy: 0.8091 - val_loss: 0.8252 - val_accuracy: 0.7222\n",
      "Epoch 17/20\n",
      "98/98 [==============================] - 2s 22ms/step - loss: 0.5022 - accuracy: 0.8230 - val_loss: 0.8432 - val_accuracy: 0.7213\n",
      "Epoch 18/20\n",
      "98/98 [==============================] - 2s 22ms/step - loss: 0.4785 - accuracy: 0.8315 - val_loss: 0.8365 - val_accuracy: 0.7253\n",
      "Epoch 19/20\n",
      "98/98 [==============================] - 2s 22ms/step - loss: 0.4506 - accuracy: 0.8414 - val_loss: 0.8148 - val_accuracy: 0.7283\n",
      "Epoch 20/20\n",
      "98/98 [==============================] - 2s 22ms/step - loss: 0.4327 - accuracy: 0.8482 - val_loss: 0.8562 - val_accuracy: 0.7239\n"
     ]
    }
   ],
   "source": [
    "history = model.fit(X_train,y_train,\n",
    "                    batch_size=512,\n",
    "                    epochs=20,\n",
    "                    validation_data=(X_test, y_test))\n",
    "\n",
    "\n",
    "\n",
    "\n"
   ]
  },
  {
   "cell_type": "markdown",
   "metadata": {
    "id": "XcHzGtknqq80"
   },
   "source": [
    "## Question 8:\n",
    "\n",
    "#### Evaluate model with loss and accuracy."
   ]
  },
  {
   "cell_type": "code",
   "execution_count": 51,
   "metadata": {
    "colab": {
     "base_uri": "https://localhost:8080/"
    },
    "id": "Oz1xJg-Qqq80",
    "outputId": "489a5fa1-5885-4a25-d00e-869d186732c4"
   },
   "outputs": [
    {
     "name": "stdout",
     "output_type": "stream",
     "text": [
      "313/313 [==============================] - 1s 3ms/step - loss: 0.8562 - accuracy: 0.7239\n",
      "test loss:  0.856208860874176\n",
      "test accuracy:  0.7239000201225281\n"
     ]
    }
   ],
   "source": [
    "# Score trained model.\n",
    "score = model.evaluate(X_test, y_test)\n",
    "\n",
    "print(\"test loss: \", score[0])\n",
    "print(\"test accuracy: \", score[1])\n",
    "\n",
    "\n",
    "\n",
    "\n"
   ]
  },
  {
   "cell_type": "markdown",
   "metadata": {
    "id": "2YOiMSBnqq83"
   },
   "source": [
    "#### Plot the model accuracy graph over epochs."
   ]
  },
  {
   "cell_type": "code",
   "execution_count": 52,
   "metadata": {
    "colab": {
     "base_uri": "https://localhost:8080/",
     "height": 404
    },
    "id": "uasK8lXmqq84",
    "outputId": "5fa056ab-db03-46fb-da9f-70d141bbda81"
   },
   "outputs": [
    {
     "data": {
      "image/png": "[encoded data removed]",
      "text/plain": [
       "<Figure size 432x432 with 1 Axes>"
      ]
     },
     "metadata": {
      "needs_background": "light",
      "tags": []
     },
     "output_type": "display_data"
    }
   ],
   "source": [
    "plt.figure(figsize=(6, 6))\n",
    "plt.title('Model accuracy')\n",
    "plt.plot(history.history['accuracy'])\n",
    "plt.plot(history.history['val_accuracy'])\n",
    "\n",
    "\n",
    "plt.ylabel('Accuracy')\n",
    "plt.xlabel('Epoch')\n",
    "plt.legend(['Train', 'Validation'], loc='upper left')\n",
    "plt.show()"
   ]
  },
  {
   "cell_type": "markdown",
   "metadata": {
    "id": "5MNQ46Mhqq86"
   },
   "source": [
    "## Question 9:\n",
    "\n",
    "#### Generate predicted results on test data"
   ]
  },
  {
   "cell_type": "code",
   "execution_count": 53,
   "metadata": {
    "id": "DX932q5Tqq87"
   },
   "outputs": [],
   "source": [
    "y_pred = model.predict(X_test)\n",
    "\n"
   ]
  },
  {
   "cell_type": "code",
   "execution_count": 54,
   "metadata": {
    "colab": {
     "base_uri": "https://localhost:8080/"
    },
    "id": "_YkjTIdNqq9J",
    "outputId": "a33ecc5a-c8fc-4d62-fff2-cb4a5e9282b2"
   },
   "outputs": [
    {
     "data": {
      "text/plain": [
       "array([0.00085337, 0.00071042, 0.00617039, 0.5660498 , 0.00231357,\n",
       "       0.32087407, 0.05723126, 0.0052886 , 0.03841082, 0.00209764],\n",
       "      dtype=float32)"
      ]
     },
     "execution_count": 54,
     "metadata": {
      "tags": []
     },
     "output_type": "execute_result"
    }
   ],
   "source": [
    "y_pred[0]"
   ]
  },
  {
   "cell_type": "markdown",
   "metadata": {
    "id": "lefgpyj6qq9P"
   },
   "source": [
    "#### Plot the image, predicted label and the true label."
   ]
  },
  {
   "cell_type": "code",
   "execution_count": 69,
   "metadata": {
    "colab": {
     "base_uri": "https://localhost:8080/",
     "height": 1000
    },
    "id": "PONO19etqq9Q",
    "outputId": "da37d094-6798-4200-d241-f1e65a28214f",
    "scrolled": false
   },
   "outputs": [
    {
     "data": {
      "image/png": "[encoded data removed]",
      "text/plain": [
       "<Figure size 144x144 with 1 Axes>"
      ]
     },
     "metadata": {
      "needs_background": "light",
      "tags": []
     },
     "output_type": "display_data"
    },
    {
     "data": {
      "image/png": "[encoded data removed]",
      "text/plain": [
       "<Figure size 144x144 with 1 Axes>"
      ]
     },
     "metadata": {
      "needs_background": "light",
      "tags": []
     },
     "output_type": "display_data"
    },
    {
     "data": {
      "image/png": "[encoded data removed]",
      "text/plain": [
       "<Figure size 144x144 with 1 Axes>"
      ]
     },
     "metadata": {
      "needs_background": "light",
      "tags": []
     },
     "output_type": "display_data"
    },
    {
     "data": {
      "image/png": "[encoded data removed]",
      "text/plain": [
       "<Figure size 144x144 with 1 Axes>"
      ]
     },
     "metadata": {
      "needs_background": "light",
      "tags": []
     },
     "output_type": "display_data"
    },
    {
     "data": {
      "image/png": "[encoded data removed]",
      "text/plain": [
       "<Figure size 144x144 with 1 Axes>"
      ]
     },
     "metadata": {
      "needs_background": "light",
      "tags": []
     },
     "output_type": "display_data"
    },
    {
     "data": {
      "image/png": "[encoded data removed]",
      "text/plain": [
       "<Figure size 144x144 with 1 Axes>"
      ]
     },
     "metadata": {
      "needs_background": "light",
      "tags": []
     },
     "output_type": "display_data"
    },
    {
     "data": {
      "image/png": "[encoded data removed]",
      "text/plain": [
       "<Figure size 144x144 with 1 Axes>"
      ]
     },
     "metadata": {
      "needs_background": "light",
      "tags": []
     },
     "output_type": "display_data"
    },
    {
     "data": {
      "image/png": "[encoded data removed]",
      "text/plain": [
       "<Figure size 144x144 with 1 Axes>"
      ]
     },
     "metadata": {
      "needs_background": "light",
      "tags": []
     },
     "output_type": "display_data"
    },
    {
     "data": {
      "image/png": "[encoded data removed]",
      "text/plain": [
       "<Figure size 144x144 with 1 Axes>"
      ]
     },
     "metadata": {
      "needs_background": "light",
      "tags": []
     },
     "output_type": "display_data"
    },
    {
     "data": {
      "image/png": "[encoded data removed]",
      "text/plain": [
       "<Figure size 144x144 with 1 Axes>"
      ]
     },
     "metadata": {
      "needs_background": "light",
      "tags": []
     },
     "output_type": "display_data"
    },
    {
     "data": {
      "image/png": "[encoded data removed]",
      "text/plain": [
       "<Figure size 144x144 with 1 Axes>"
      ]
     },
     "metadata": {
      "needs_background": "light",
      "tags": []
     },
     "output_type": "display_data"
    },
    {
     "data": {
      "image/png": "[encoded data removed]",
      "text/plain": [
       "<Figure size 144x144 with 1 Axes>"
      ]
     },
     "metadata": {
      "needs_background": "light",
      "tags": []
     },
     "output_type": "display_data"
    },
    {
     "data": {
      "image/png": "[encoded data removed]",
      "text/plain": [
       "<Figure size 144x144 with 1 Axes>"
      ]
     },
     "metadata": {
      "needs_background": "light",
      "tags": []
     },
     "output_type": "display_data"
    },
    {
     "data": {
      "image/png": "[encoded data removed]",
      "text/plain": [
       "<Figure size 144x144 with 1 Axes>"
      ]
     },
     "metadata": {
      "needs_background": "light",
      "tags": []
     },
     "output_type": "display_data"
    },
    {
     "data": {
      "text/plain": [
       "<Figure size 144x144 with 0 Axes>"
      ]
     },
     "metadata": {
      "tags": []
     },
     "output_type": "display_data"
    },
    {
     "data": {
      "image/png": "[encoded data removed]",
      "text/plain": [
       "<Figure size 144x144 with 1 Axes>"
      ]
     },
     "metadata": {
      "needs_background": "light",
      "tags": []
     },
     "output_type": "display_data"
    },
    {
     "data": {
      "image/png": "[encoded data removed]",
      "text/plain": [
       "<Figure size 144x144 with 1 Axes>"
      ]
     },
     "metadata": {
      "needs_background": "light",
      "tags": []
     },
     "output_type": "display_data"
    },
    {
     "data": {
      "image/png": "[encoded data removed]",
      "text/plain": [
       "<Figure size 144x144 with 1 Axes>"
      ]
     },
     "metadata": {
      "needs_background": "light",
      "tags": []
     },
     "output_type": "display_data"
    },
    {
     "data": {
      "image/png": "[encoded data removed]",
      "text/plain": [
       "<Figure size 144x144 with 1 Axes>"
      ]
     },
     "metadata": {
      "needs_background": "light",
      "tags": []
     },
     "output_type": "display_data"
    },
    {
     "data": {
      "text/plain": [
       "<Figure size 144x144 with 0 Axes>"
      ]
     },
     "metadata": {
      "tags": []
     },
     "output_type": "display_data"
    }
   ],
   "source": [
    "# show image, prediction and actual label\n",
    "for i in range(20):\n",
    "    plt.figure(figsize=(2, 2))\n",
    "    label = y_train[i].argmax()\n",
    "    \n",
    "    true_label = y_test[i].argmax()\n",
    "    \n",
    "    if (label != true_label):\n",
    "        plt.title('Prediction: %d Label: %d' % (label, true_label))\n",
    "\n",
    "        plt.imshow(X_test[i], cmap=plt.get_cmap('gray_r'))\n",
    "        plt.show()\n",
    "    \n",
    "    \n",
    "    \n",
    "    \n",
    "    plt.show()"
   ]
  },
  {
   "cell_type": "markdown",
   "metadata": {
    "id": "_HSCWrqFqq9U"
   },
   "source": [
    "## Question 10:\n",
    "\n",
    "#### In the CNN model we built, we used an architecture like: conv1 (32, 3x3) --> maxpooling --> conv2 (32, 3x3) --> maxpooling ...\n",
    "#### Try to boost the validation accuracy of the model by changing the architecture to `VGG` architecture in the following way: conv1 (32, 3x3)  --> conv2 (32, 3x3) --> maxpooling1 --> dropout1 (25%) --> conv3 (64, 3x3)  --> conv4 (64, 3x3) --> maxpooling2 --> dropout2 (25%)  --> flatten1 --> ANN.\n",
    "#### Without changing the number of epochs, let's see how much we can get improved.\n"
   ]
  },
  {
   "cell_type": "code",
   "execution_count": 63,
   "metadata": {
    "colab": {
     "base_uri": "https://localhost:8080/"
    },
    "id": "eA3Y7XKpqq9V",
    "outputId": "f2c7a321-e417-4149-da38-910c1a91f772"
   },
   "outputs": [
    {
     "name": "stdout",
     "output_type": "stream",
     "text": [
      "Model: \"sequential_3\"\n",
      "_________________________________________________________________\n",
      "Layer (type)                 Output Shape              Param #   \n",
      "=================================================================\n",
      "conv2d_6 (Conv2D)            (None, 30, 30, 32)        896       \n",
      "_________________________________________________________________\n",
      "conv2d_7 (Conv2D)            (None, 28, 28, 64)        18496     \n",
      "_________________________________________________________________\n",
      "conv2d_8 (Conv2D)            (None, 26, 26, 64)        36928     \n",
      "_________________________________________________________________\n",
      "max_pooling2d_3 (MaxPooling2 (None, 13, 13, 64)        0         \n",
      "_________________________________________________________________\n",
      "dropout_6 (Dropout)          (None, 13, 13, 64)        0         \n",
      "_________________________________________________________________\n",
      "flatten_3 (Flatten)          (None, 10816)             0         \n",
      "_________________________________________________________________\n",
      "dense_6 (Dense)              (None, 512)               5538304   \n",
      "_________________________________________________________________\n",
      "dropout_7 (Dropout)          (None, 512)               0         \n",
      "_________________________________________________________________\n",
      "dense_7 (Dense)              (None, 10)                5130      \n",
      "=================================================================\n",
      "Total params: 5,599,754\n",
      "Trainable params: 5,599,754\n",
      "Non-trainable params: 0\n",
      "_________________________________________________________________\n"
     ]
    }
   ],
   "source": [
    "model = Sequential()\n",
    "\n",
    "model.add(Conv2D(filters=32, kernel_size=(3,3), activation='relu',input_shape=(32, 32, 3)))\n",
    "model.add(Conv2D(filters=64, kernel_size=(3,3), activation='relu'))\n",
    "model.add(Conv2D(filters=64, kernel_size=(3,3), activation='relu'))\n",
    "\n",
    "model.add(MaxPooling2D(pool_size=(2,2)))\n",
    "model.add(Dropout(0.25))\n",
    "model.add(Flatten())\n",
    "model.add(Dense(512, activation='relu'))\n",
    "model.add(Dropout(0.25))\n",
    "model.add(Dense(10,activation='softmax'))\n",
    "\n",
    "\n",
    "\n",
    "model.summary()\n",
    "\n",
    "\n"
   ]
  },
  {
   "cell_type": "code",
   "execution_count": 70,
   "metadata": {
    "id": "8gc6bne08VcL"
   },
   "outputs": [],
   "source": [
    "# initiate Adam optimizer\n",
    "from keras.optimizers import Adam\n",
    "opt = Adam(lr=0.0001, decay=1e-6)\n",
    "\n",
    "# Let's train the model using Adam\n",
    "model.compile(loss='categorical_crossentropy',\n",
    "              optimizer='adam', metrics='accuracy')\n",
    "\n"
   ]
  },
  {
   "cell_type": "code",
   "execution_count": null,
   "metadata": {
    "colab": {
     "base_uri": "https://localhost:8080/"
    },
    "id": "AzMcZ5Qy8UbJ",
    "outputId": "35a1ac5a-94de-4220-f87a-4710f25e0e3e"
   },
   "outputs": [
    {
     "name": "stdout",
     "output_type": "stream",
     "text": [
      "Epoch 1/20\n",
      "98/98 [==============================] - 6s 59ms/step - loss: 1.6034 - accuracy: 0.4225 - val_loss: 1.3068 - val_accuracy: 0.5341\n",
      "Epoch 2/20\n",
      "98/98 [==============================] - 6s 56ms/step - loss: 1.2149 - accuracy: 0.5664 - val_loss: 1.1234 - val_accuracy: 0.6094\n",
      "Epoch 3/20\n",
      "98/98 [==============================] - 6s 57ms/step - loss: 1.0297 - accuracy: 0.6389 - val_loss: 0.9926 - val_accuracy: 0.6534\n",
      "Epoch 4/20\n",
      "98/98 [==============================] - 6s 57ms/step - loss: 0.8921 - accuracy: 0.6862 - val_loss: 0.9201 - val_accuracy: 0.6794\n",
      "Epoch 5/20\n",
      "98/98 [==============================] - 5s 55ms/step - loss: 0.7887 - accuracy: 0.7246 - val_loss: 0.8626 - val_accuracy: 0.7025\n",
      "Epoch 6/20\n",
      "98/98 [==============================] - 5s 55ms/step - loss: 0.6842 - accuracy: 0.7622 - val_loss: 0.8292 - val_accuracy: 0.7181\n",
      "Epoch 7/20\n",
      "98/98 [==============================] - 5s 54ms/step - loss: 0.5916 - accuracy: 0.7934 - val_loss: 0.8587 - val_accuracy: 0.7083\n",
      "Epoch 8/20\n",
      "98/98 [==============================] - 5s 54ms/step - loss: 0.5053 - accuracy: 0.8248 - val_loss: 0.8507 - val_accuracy: 0.7145\n",
      "Epoch 9/20\n",
      "98/98 [==============================] - 5s 53ms/step - loss: 0.4235 - accuracy: 0.8544 - val_loss: 0.8634 - val_accuracy: 0.7188\n",
      "Epoch 10/20\n",
      "98/98 [==============================] - 5s 54ms/step - loss: 0.3570 - accuracy: 0.8747 - val_loss: 0.8741 - val_accuracy: 0.7217\n",
      "Epoch 11/20\n",
      "98/98 [==============================] - 5s 54ms/step - loss: 0.2984 - accuracy: 0.8965 - val_loss: 0.9282 - val_accuracy: 0.7209\n",
      "Epoch 12/20\n",
      "62/98 [=================>............] - ETA: 1s - loss: 0.2484 - accuracy: 0.9144"
     ]
    }
   ],
   "source": [
    "history = model.fit(X_train,y_train,\n",
    "                    batch_size=512,\n",
    "                    epochs=20,\n",
    "                    validation_data=(X_test, y_test))\n",
    "\n"
   ]
  },
  {
   "cell_type": "code",
   "execution_count": 70,
   "metadata": {
    "id": "Ek56KSiH8cU6"
   },
   "outputs": [],
   "source": [
    "plt.figure(figsize=(6, 6))\n",
    "plt.title('Model accuracy')\n",
    "plt.plot(history.history['accuracy'])\n",
    "plt.plot(history.history['val_accuracy'])\n",
    "\n",
    "\n",
    "plt.ylabel('Accuracy')\n",
    "plt.xlabel('Epoch')\n",
    "plt.legend(['Train', 'Validation'], loc='upper left')\n",
    "plt.show()"
   ]
  },
  {
   "cell_type": "code",
   "execution_count": 70,
   "metadata": {
    "id": "pH_297SR8dAg"
   },
   "outputs": [],
   "source": []
  },
  {
   "cell_type": "code",
   "execution_count": null,
   "metadata": {
    "id": "z8x7oThA8dg8"
   },
   "outputs": [],
   "source": []
  },
  {
   "cell_type": "markdown",
   "metadata": {
    "id": "RDNrAELsqq9a"
   },
   "source": [
    "#### Note: the model is still under-fitted with 20 epochs. Validation accuracy can get at least another 5% increase if number of epochs is greater. "
   ]
  },
  {
   "cell_type": "markdown",
   "metadata": {
    "id": "bKvtBzshqq9i"
   },
   "source": [
    "## Great job!"
   ]
  }
 ],
 "metadata": {
  "accelerator": "GPU",
  "colab": {
   "collapsed_sections": [],
   "name": "Lab6_cnn.ipynb",
   "provenance": []
  },
  "kernelspec": {
   "display_name": "Python 3 (ipykernel)",
   "language": "python",
   "name": "python3"
  },
  "language_info": {
   "codemirror_mode": {
    "name": "ipython",
    "version": 3
   },
   "file_extension": ".py",
   "mimetype": "text/x-python",
   "name": "python",
   "nbconvert_exporter": "python",
   "pygments_lexer": "ipython3",
   "version": "3.8.8"
  }
 },
 "nbformat": 4,
 "nbformat_minor": 1
}
